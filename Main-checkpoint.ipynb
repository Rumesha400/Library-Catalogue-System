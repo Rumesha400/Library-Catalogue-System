{
 "cells": [
  {
   "cell_type": "code",
   "execution_count": 5,
   "id": "06883620",
   "metadata": {},
   "outputs": [
    {
     "ename": "IndentationError",
     "evalue": "unexpected indent (Function.py, line 390)",
     "output_type": "error",
     "traceback": [
      "Traceback \u001b[1;36m(most recent call last)\u001b[0m:\n",
      "\u001b[0m  File \u001b[0;32mC:\\PY-Jupyter\\Lib\\site-packages\\IPython\\core\\interactiveshell.py:3553\u001b[0m in \u001b[0;35mrun_code\u001b[0m\n    exec(code_obj, self.user_global_ns, self.user_ns)\u001b[0m\n",
      "\u001b[1;36m  Cell \u001b[1;32mIn[5], line 1\u001b[1;36m\n\u001b[1;33m    import Function as f\u001b[1;36m\n",
      "\u001b[1;36m  File \u001b[1;32m~\\OneDrive\\Desktop\\Library Catalogue Sysytem\\Function.py:390\u001b[1;36m\u001b[0m\n\u001b[1;33m    if(choice == 1):\u001b[0m\n\u001b[1;37m    ^\u001b[0m\n\u001b[1;31mIndentationError\u001b[0m\u001b[1;31m:\u001b[0m unexpected indent\n"
     ]
    }
   ],
   "source": [
    "import Function as f\n",
    "\n",
    "print(\"Menu:\\n1. Login\\n2. Exit\")\n",
    "choice = int(input(\"Enter the number from the menu that you want to do: \"))\n",
    "print(\"-----------------------------------------------------------------------\")\n",
    "if choice == 1:\n",
    "    if f.Login():\n",
    "        f.Menue()\n",
    "elif choice == 2:\n",
    "    pass\n"
   ]
  }
 ],
 "metadata": {
  "kernelspec": {
   "display_name": "Python 3 (ipykernel)",
   "language": "python",
   "name": "python3"
  },
  "language_info": {
   "codemirror_mode": {
    "name": "ipython",
    "version": 3
   },
   "file_extension": ".py",
   "mimetype": "text/x-python",
   "name": "python",
   "nbconvert_exporter": "python",
   "pygments_lexer": "ipython3",
   "version": "3.11.7"
  }
 },
 "nbformat": 4,
 "nbformat_minor": 5
}
